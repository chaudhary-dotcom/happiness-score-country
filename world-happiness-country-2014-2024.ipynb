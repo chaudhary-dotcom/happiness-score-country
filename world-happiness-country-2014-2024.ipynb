{
 "cells": [
  {
   "cell_type": "markdown",
   "id": "32b0843a",
   "metadata": {},
   "source": [
    "# World Happiness Score of 2015"
   ]
  },
  {
   "cell_type": "code",
   "execution_count": 2,
   "id": "cd34f3c3",
   "metadata": {},
   "outputs": [],
   "source": [
    "import numpy as np\n",
    "import pandas as pd\n",
    "import matplotlib.pyplot as plt\n",
    "import seaborn as sns"
   ]
  },
  {
   "cell_type": "code",
   "execution_count": 3,
   "id": "cf05c294",
   "metadata": {},
   "outputs": [],
   "source": [
    "df = pd.read_csv('2015.csv')"
   ]
  },
  {
   "cell_type": "markdown",
   "id": "8942f46c",
   "metadata": {},
   "source": [
    "# EDA"
   ]
  },
  {
   "cell_type": "code",
   "execution_count": 4,
   "id": "2c32d20a",
   "metadata": {},
   "outputs": [
    {
     "data": {
      "text/html": [
       "<div>\n",
       "<style scoped>\n",
       "    .dataframe tbody tr th:only-of-type {\n",
       "        vertical-align: middle;\n",
       "    }\n",
       "\n",
       "    .dataframe tbody tr th {\n",
       "        vertical-align: top;\n",
       "    }\n",
       "\n",
       "    .dataframe thead th {\n",
       "        text-align: right;\n",
       "    }\n",
       "</style>\n",
       "<table border=\"1\" class=\"dataframe\">\n",
       "  <thead>\n",
       "    <tr style=\"text-align: right;\">\n",
       "      <th></th>\n",
       "      <th>Country</th>\n",
       "      <th>Region</th>\n",
       "      <th>Happiness Rank</th>\n",
       "      <th>Happiness Score</th>\n",
       "      <th>Standard Error</th>\n",
       "      <th>Economy (GDP per Capita)</th>\n",
       "      <th>Family</th>\n",
       "      <th>Health (Life Expectancy)</th>\n",
       "      <th>Freedom</th>\n",
       "      <th>Trust (Government Corruption)</th>\n",
       "      <th>Generosity</th>\n",
       "      <th>Dystopia Residual</th>\n",
       "    </tr>\n",
       "  </thead>\n",
       "  <tbody>\n",
       "    <tr>\n",
       "      <th>0</th>\n",
       "      <td>Switzerland</td>\n",
       "      <td>Western Europe</td>\n",
       "      <td>1</td>\n",
       "      <td>7.587</td>\n",
       "      <td>0.03411</td>\n",
       "      <td>1.39651</td>\n",
       "      <td>1.34951</td>\n",
       "      <td>0.94143</td>\n",
       "      <td>0.66557</td>\n",
       "      <td>0.41978</td>\n",
       "      <td>0.29678</td>\n",
       "      <td>2.51738</td>\n",
       "    </tr>\n",
       "    <tr>\n",
       "      <th>1</th>\n",
       "      <td>Iceland</td>\n",
       "      <td>Western Europe</td>\n",
       "      <td>2</td>\n",
       "      <td>7.561</td>\n",
       "      <td>0.04884</td>\n",
       "      <td>1.30232</td>\n",
       "      <td>1.40223</td>\n",
       "      <td>0.94784</td>\n",
       "      <td>0.62877</td>\n",
       "      <td>0.14145</td>\n",
       "      <td>0.43630</td>\n",
       "      <td>2.70201</td>\n",
       "    </tr>\n",
       "    <tr>\n",
       "      <th>2</th>\n",
       "      <td>Denmark</td>\n",
       "      <td>Western Europe</td>\n",
       "      <td>3</td>\n",
       "      <td>7.527</td>\n",
       "      <td>0.03328</td>\n",
       "      <td>1.32548</td>\n",
       "      <td>1.36058</td>\n",
       "      <td>0.87464</td>\n",
       "      <td>0.64938</td>\n",
       "      <td>0.48357</td>\n",
       "      <td>0.34139</td>\n",
       "      <td>2.49204</td>\n",
       "    </tr>\n",
       "    <tr>\n",
       "      <th>3</th>\n",
       "      <td>Norway</td>\n",
       "      <td>Western Europe</td>\n",
       "      <td>4</td>\n",
       "      <td>7.522</td>\n",
       "      <td>0.03880</td>\n",
       "      <td>1.45900</td>\n",
       "      <td>1.33095</td>\n",
       "      <td>0.88521</td>\n",
       "      <td>0.66973</td>\n",
       "      <td>0.36503</td>\n",
       "      <td>0.34699</td>\n",
       "      <td>2.46531</td>\n",
       "    </tr>\n",
       "    <tr>\n",
       "      <th>4</th>\n",
       "      <td>Canada</td>\n",
       "      <td>North America</td>\n",
       "      <td>5</td>\n",
       "      <td>7.427</td>\n",
       "      <td>0.03553</td>\n",
       "      <td>1.32629</td>\n",
       "      <td>1.32261</td>\n",
       "      <td>0.90563</td>\n",
       "      <td>0.63297</td>\n",
       "      <td>0.32957</td>\n",
       "      <td>0.45811</td>\n",
       "      <td>2.45176</td>\n",
       "    </tr>\n",
       "  </tbody>\n",
       "</table>\n",
       "</div>"
      ],
      "text/plain": [
       "       Country          Region  Happiness Rank  Happiness Score  \\\n",
       "0  Switzerland  Western Europe               1            7.587   \n",
       "1      Iceland  Western Europe               2            7.561   \n",
       "2      Denmark  Western Europe               3            7.527   \n",
       "3       Norway  Western Europe               4            7.522   \n",
       "4       Canada   North America               5            7.427   \n",
       "\n",
       "   Standard Error  Economy (GDP per Capita)   Family  \\\n",
       "0         0.03411                   1.39651  1.34951   \n",
       "1         0.04884                   1.30232  1.40223   \n",
       "2         0.03328                   1.32548  1.36058   \n",
       "3         0.03880                   1.45900  1.33095   \n",
       "4         0.03553                   1.32629  1.32261   \n",
       "\n",
       "   Health (Life Expectancy)  Freedom  Trust (Government Corruption)  \\\n",
       "0                   0.94143  0.66557                        0.41978   \n",
       "1                   0.94784  0.62877                        0.14145   \n",
       "2                   0.87464  0.64938                        0.48357   \n",
       "3                   0.88521  0.66973                        0.36503   \n",
       "4                   0.90563  0.63297                        0.32957   \n",
       "\n",
       "   Generosity  Dystopia Residual  \n",
       "0     0.29678            2.51738  \n",
       "1     0.43630            2.70201  \n",
       "2     0.34139            2.49204  \n",
       "3     0.34699            2.46531  \n",
       "4     0.45811            2.45176  "
      ]
     },
     "execution_count": 4,
     "metadata": {},
     "output_type": "execute_result"
    }
   ],
   "source": [
    "df.head()"
   ]
  },
  {
   "cell_type": "code",
   "execution_count": 5,
   "id": "f615382f",
   "metadata": {},
   "outputs": [
    {
     "data": {
      "text/plain": [
       "(158, 12)"
      ]
     },
     "execution_count": 5,
     "metadata": {},
     "output_type": "execute_result"
    }
   ],
   "source": [
    "df.shape"
   ]
  },
  {
   "cell_type": "code",
   "execution_count": 6,
   "id": "d5cb9746",
   "metadata": {},
   "outputs": [
    {
     "name": "stdout",
     "output_type": "stream",
     "text": [
      "<class 'pandas.core.frame.DataFrame'>\n",
      "RangeIndex: 158 entries, 0 to 157\n",
      "Data columns (total 12 columns):\n",
      " #   Column                         Non-Null Count  Dtype  \n",
      "---  ------                         --------------  -----  \n",
      " 0   Country                        158 non-null    object \n",
      " 1   Region                         158 non-null    object \n",
      " 2   Happiness Rank                 158 non-null    int64  \n",
      " 3   Happiness Score                158 non-null    float64\n",
      " 4   Standard Error                 158 non-null    float64\n",
      " 5   Economy (GDP per Capita)       158 non-null    float64\n",
      " 6   Family                         158 non-null    float64\n",
      " 7   Health (Life Expectancy)       158 non-null    float64\n",
      " 8   Freedom                        158 non-null    float64\n",
      " 9   Trust (Government Corruption)  158 non-null    float64\n",
      " 10  Generosity                     158 non-null    float64\n",
      " 11  Dystopia Residual              158 non-null    float64\n",
      "dtypes: float64(9), int64(1), object(2)\n",
      "memory usage: 14.9+ KB\n"
     ]
    }
   ],
   "source": [
    "df.info()"
   ]
  },
  {
   "cell_type": "code",
   "execution_count": 9,
   "id": "67257d53",
   "metadata": {},
   "outputs": [
    {
     "data": {
      "text/html": [
       "<div>\n",
       "<style scoped>\n",
       "    .dataframe tbody tr th:only-of-type {\n",
       "        vertical-align: middle;\n",
       "    }\n",
       "\n",
       "    .dataframe tbody tr th {\n",
       "        vertical-align: top;\n",
       "    }\n",
       "\n",
       "    .dataframe thead th {\n",
       "        text-align: right;\n",
       "    }\n",
       "</style>\n",
       "<table border=\"1\" class=\"dataframe\">\n",
       "  <thead>\n",
       "    <tr style=\"text-align: right;\">\n",
       "      <th></th>\n",
       "      <th>count</th>\n",
       "      <th>mean</th>\n",
       "      <th>std</th>\n",
       "      <th>min</th>\n",
       "      <th>25%</th>\n",
       "      <th>50%</th>\n",
       "      <th>75%</th>\n",
       "      <th>max</th>\n",
       "    </tr>\n",
       "  </thead>\n",
       "  <tbody>\n",
       "    <tr>\n",
       "      <th>Happiness Rank</th>\n",
       "      <td>158.0</td>\n",
       "      <td>79.493671</td>\n",
       "      <td>45.754363</td>\n",
       "      <td>1.00000</td>\n",
       "      <td>40.250000</td>\n",
       "      <td>79.500000</td>\n",
       "      <td>118.750000</td>\n",
       "      <td>158.00000</td>\n",
       "    </tr>\n",
       "    <tr>\n",
       "      <th>Happiness Score</th>\n",
       "      <td>158.0</td>\n",
       "      <td>5.375734</td>\n",
       "      <td>1.145010</td>\n",
       "      <td>2.83900</td>\n",
       "      <td>4.526000</td>\n",
       "      <td>5.232500</td>\n",
       "      <td>6.243750</td>\n",
       "      <td>7.58700</td>\n",
       "    </tr>\n",
       "    <tr>\n",
       "      <th>Standard Error</th>\n",
       "      <td>158.0</td>\n",
       "      <td>0.047885</td>\n",
       "      <td>0.017146</td>\n",
       "      <td>0.01848</td>\n",
       "      <td>0.037268</td>\n",
       "      <td>0.043940</td>\n",
       "      <td>0.052300</td>\n",
       "      <td>0.13693</td>\n",
       "    </tr>\n",
       "    <tr>\n",
       "      <th>Economy (GDP per Capita)</th>\n",
       "      <td>158.0</td>\n",
       "      <td>0.846137</td>\n",
       "      <td>0.403121</td>\n",
       "      <td>0.00000</td>\n",
       "      <td>0.545808</td>\n",
       "      <td>0.910245</td>\n",
       "      <td>1.158448</td>\n",
       "      <td>1.69042</td>\n",
       "    </tr>\n",
       "    <tr>\n",
       "      <th>Family</th>\n",
       "      <td>158.0</td>\n",
       "      <td>0.991046</td>\n",
       "      <td>0.272369</td>\n",
       "      <td>0.00000</td>\n",
       "      <td>0.856823</td>\n",
       "      <td>1.029510</td>\n",
       "      <td>1.214405</td>\n",
       "      <td>1.40223</td>\n",
       "    </tr>\n",
       "    <tr>\n",
       "      <th>Health (Life Expectancy)</th>\n",
       "      <td>158.0</td>\n",
       "      <td>0.630259</td>\n",
       "      <td>0.247078</td>\n",
       "      <td>0.00000</td>\n",
       "      <td>0.439185</td>\n",
       "      <td>0.696705</td>\n",
       "      <td>0.811013</td>\n",
       "      <td>1.02525</td>\n",
       "    </tr>\n",
       "    <tr>\n",
       "      <th>Freedom</th>\n",
       "      <td>158.0</td>\n",
       "      <td>0.428615</td>\n",
       "      <td>0.150693</td>\n",
       "      <td>0.00000</td>\n",
       "      <td>0.328330</td>\n",
       "      <td>0.435515</td>\n",
       "      <td>0.549092</td>\n",
       "      <td>0.66973</td>\n",
       "    </tr>\n",
       "    <tr>\n",
       "      <th>Trust (Government Corruption)</th>\n",
       "      <td>158.0</td>\n",
       "      <td>0.143422</td>\n",
       "      <td>0.120034</td>\n",
       "      <td>0.00000</td>\n",
       "      <td>0.061675</td>\n",
       "      <td>0.107220</td>\n",
       "      <td>0.180255</td>\n",
       "      <td>0.55191</td>\n",
       "    </tr>\n",
       "    <tr>\n",
       "      <th>Generosity</th>\n",
       "      <td>158.0</td>\n",
       "      <td>0.237296</td>\n",
       "      <td>0.126685</td>\n",
       "      <td>0.00000</td>\n",
       "      <td>0.150553</td>\n",
       "      <td>0.216130</td>\n",
       "      <td>0.309883</td>\n",
       "      <td>0.79588</td>\n",
       "    </tr>\n",
       "    <tr>\n",
       "      <th>Dystopia Residual</th>\n",
       "      <td>158.0</td>\n",
       "      <td>2.098977</td>\n",
       "      <td>0.553550</td>\n",
       "      <td>0.32858</td>\n",
       "      <td>1.759410</td>\n",
       "      <td>2.095415</td>\n",
       "      <td>2.462415</td>\n",
       "      <td>3.60214</td>\n",
       "    </tr>\n",
       "  </tbody>\n",
       "</table>\n",
       "</div>"
      ],
      "text/plain": [
       "                               count       mean        std      min  \\\n",
       "Happiness Rank                 158.0  79.493671  45.754363  1.00000   \n",
       "Happiness Score                158.0   5.375734   1.145010  2.83900   \n",
       "Standard Error                 158.0   0.047885   0.017146  0.01848   \n",
       "Economy (GDP per Capita)       158.0   0.846137   0.403121  0.00000   \n",
       "Family                         158.0   0.991046   0.272369  0.00000   \n",
       "Health (Life Expectancy)       158.0   0.630259   0.247078  0.00000   \n",
       "Freedom                        158.0   0.428615   0.150693  0.00000   \n",
       "Trust (Government Corruption)  158.0   0.143422   0.120034  0.00000   \n",
       "Generosity                     158.0   0.237296   0.126685  0.00000   \n",
       "Dystopia Residual              158.0   2.098977   0.553550  0.32858   \n",
       "\n",
       "                                     25%        50%         75%        max  \n",
       "Happiness Rank                 40.250000  79.500000  118.750000  158.00000  \n",
       "Happiness Score                 4.526000   5.232500    6.243750    7.58700  \n",
       "Standard Error                  0.037268   0.043940    0.052300    0.13693  \n",
       "Economy (GDP per Capita)        0.545808   0.910245    1.158448    1.69042  \n",
       "Family                          0.856823   1.029510    1.214405    1.40223  \n",
       "Health (Life Expectancy)        0.439185   0.696705    0.811013    1.02525  \n",
       "Freedom                         0.328330   0.435515    0.549092    0.66973  \n",
       "Trust (Government Corruption)   0.061675   0.107220    0.180255    0.55191  \n",
       "Generosity                      0.150553   0.216130    0.309883    0.79588  \n",
       "Dystopia Residual               1.759410   2.095415    2.462415    3.60214  "
      ]
     },
     "execution_count": 9,
     "metadata": {},
     "output_type": "execute_result"
    }
   ],
   "source": [
    "df.describe().T"
   ]
  },
  {
   "cell_type": "code",
   "execution_count": 11,
   "id": "168aa713",
   "metadata": {},
   "outputs": [
    {
     "data": {
      "text/plain": [
       "Country                          0\n",
       "Region                           0\n",
       "Happiness Rank                   0\n",
       "Happiness Score                  0\n",
       "Standard Error                   0\n",
       "Economy (GDP per Capita)         0\n",
       "Family                           0\n",
       "Health (Life Expectancy)         0\n",
       "Freedom                          0\n",
       "Trust (Government Corruption)    0\n",
       "Generosity                       0\n",
       "Dystopia Residual                0\n",
       "dtype: int64"
      ]
     },
     "execution_count": 11,
     "metadata": {},
     "output_type": "execute_result"
    }
   ],
   "source": [
    "df.isnull().sum()"
   ]
  },
  {
   "cell_type": "code",
   "execution_count": 16,
   "id": "cbdf83a3",
   "metadata": {},
   "outputs": [
    {
     "data": {
      "text/plain": [
       "array([  1,   2,   3,   4,   5,   6,   7,   8,   9,  10,  11,  12,  13,\n",
       "        14,  15,  16,  17,  18,  19,  20,  21,  22,  23,  24,  25,  26,\n",
       "        27,  28,  29,  30,  31,  32,  33,  34,  35,  36,  37,  38,  39,\n",
       "        40,  41,  42,  43,  44,  45,  46,  47,  48,  49,  50,  51,  52,\n",
       "        53,  54,  55,  56,  57,  58,  59,  60,  61,  62,  63,  64,  65,\n",
       "        66,  67,  68,  69,  70,  71,  72,  73,  74,  75,  76,  77,  78,\n",
       "        79,  80,  81,  82,  84,  85,  86,  87,  88,  89,  90,  91,  92,\n",
       "        93,  94,  95,  96,  97,  98,  99, 100, 101, 102, 103, 104, 105,\n",
       "       106, 107, 108, 109, 110, 111, 112, 113, 114, 115, 116, 117, 118,\n",
       "       119, 120, 121, 122, 123, 124, 125, 126, 127, 128, 129, 130, 131,\n",
       "       132, 133, 134, 135, 136, 137, 138, 139, 140, 141, 142, 143, 144,\n",
       "       145, 146, 147, 148, 149, 150, 151, 152, 153, 154, 155, 156, 157,\n",
       "       158])"
      ]
     },
     "execution_count": 16,
     "metadata": {},
     "output_type": "execute_result"
    }
   ],
   "source": [
    "df['Happiness Rank'].unique()"
   ]
  },
  {
   "cell_type": "code",
   "execution_count": 19,
   "id": "4ec55a33",
   "metadata": {},
   "outputs": [
    {
     "data": {
      "text/plain": [
       "array([7.587, 7.561, 7.527, 7.522, 7.427, 7.406, 7.378, 7.364, 7.286,\n",
       "       7.284, 7.278, 7.226, 7.2  , 7.187, 7.119, 6.983, 6.946, 6.94 ,\n",
       "       6.937, 6.901, 6.867, 6.853, 6.81 , 6.798, 6.786, 6.75 , 6.67 ,\n",
       "       6.611, 6.575, 6.574, 6.505, 6.485, 6.477, 6.455, 6.411, 6.329,\n",
       "       6.302, 6.298, 6.295, 6.269, 6.168, 6.13 , 6.123, 6.003, 5.995,\n",
       "       5.987, 5.984, 5.975, 5.96 , 5.948, 5.89 , 5.889, 5.878, 5.855,\n",
       "       5.848, 5.833, 5.828, 5.824, 5.813, 5.791, 5.77 , 5.759, 5.754,\n",
       "       5.716, 5.709, 5.695, 5.689, 5.605, 5.589, 5.548, 5.477, 5.474,\n",
       "       5.429, 5.399, 5.36 , 5.332, 5.286, 5.268, 5.253, 5.212, 5.194,\n",
       "       5.192, 5.14 , 5.129, 5.124, 5.123, 5.102, 5.098, 5.073, 5.057,\n",
       "       5.013, 5.007, 4.971, 4.959, 4.949, 4.898, 4.885, 4.876, 4.874,\n",
       "       4.867, 4.857, 4.839, 4.8  , 4.788, 4.786, 4.739, 4.715, 4.694,\n",
       "       4.686, 4.681, 4.677, 4.642, 4.633, 4.61 , 4.571, 4.565, 4.55 ,\n",
       "       4.518, 4.517, 4.514, 4.512, 4.507, 4.436, 4.419, 4.369, 4.35 ,\n",
       "       4.332, 4.307, 4.297, 4.292, 4.271, 4.252, 4.218, 4.194, 4.077,\n",
       "       4.033, 3.995, 3.989, 3.956, 3.931, 3.904, 3.896, 3.845, 3.819,\n",
       "       3.781, 3.681, 3.678, 3.667, 3.656, 3.655, 3.587, 3.575, 3.465,\n",
       "       3.34 , 3.006, 2.905, 2.839])"
      ]
     },
     "execution_count": 19,
     "metadata": {},
     "output_type": "execute_result"
    }
   ],
   "source": [
    "df['Happiness Score'].unique()"
   ]
  },
  {
   "cell_type": "markdown",
   "id": "94d7e454",
   "metadata": {},
   "source": [
    "# Visualization"
   ]
  },
  {
   "cell_type": "code",
   "execution_count": 71,
   "id": "d0a33d4e",
   "metadata": {},
   "outputs": [
    {
     "name": "stderr",
     "output_type": "stream",
     "text": [
      "C:\\Users\\acer\\AppData\\Local\\Temp\\ipykernel_15480\\3403324315.py:8: FutureWarning: \n",
      "\n",
      "Passing `palette` without assigning `hue` is deprecated and will be removed in v0.14.0. Assign the `y` variable to `hue` and set `legend=False` for the same effect.\n",
      "\n",
      "  sns.barplot(ax=axes[0], y='Country', x='Happiness Score', data=top10.sort_values('Happiness Score', ascending=False), palette='viridis')\n",
      "C:\\Users\\acer\\AppData\\Local\\Temp\\ipykernel_15480\\3403324315.py:17: FutureWarning: \n",
      "\n",
      "Passing `palette` without assigning `hue` is deprecated and will be removed in v0.14.0. Assign the `y` variable to `hue` and set `legend=False` for the same effect.\n",
      "\n",
      "  sns.barplot(ax=axes[1], y='Country', x='Happiness Score', data=bottom10.sort_values('Happiness Score'), palette='viridis')\n"
     ]
    },
    {
     "data": {
      "image/png": "[encoded data removed]",
      "text/plain": [
       "<Figure size 1800x800 with 2 Axes>"
      ]
     },
     "metadata": {},
     "output_type": "display_data"
    }
   ],
   "source": [
    "# Get the top 10 and bottom 10 countries by happiness score\n",
    "top10 = df.nlargest(10, 'Happiness Score')\n",
    "bottom10 = df.nsmallest(10, 'Happiness Score')\n",
    "\n",
    "fig, axes = plt.subplots(1,2,figsize=(18,8))\n",
    "\n",
    "# Top 10 countries\n",
    "sns.barplot(ax=axes[0], y='Country', x='Happiness Score', data=top10.sort_values('Happiness Score', ascending=False), palette='viridis')\n",
    "axes[0].set_xlabel('Happiness Score', fontsize=12)\n",
    "axes[0].set_ylabel('Country', fontsize=12)\n",
    "axes[0].set_title('Top 10 Happiest Countries (2015)', fontsize=15)\n",
    "\n",
    "for container in axes[0].containers:\n",
    "    axes[0].bar_label(container, fmt='%.2f', padding=3)\n",
    "\n",
    "# Bottom 10 countries\n",
    "sns.barplot(ax=axes[1], y='Country', x='Happiness Score', data=bottom10.sort_values('Happiness Score'), palette='viridis')\n",
    "axes[1].set_xlabel('Happiness Score', fontsize=12)\n",
    "axes[1].set_ylabel('Country', fontsize=12)\n",
    "axes[1].set_title('Bottom 10 Countries (2015)', fontsize=15)\n",
    "\n",
    "for container in axes[1].containers:\n",
    "    axes[1].bar_label(container, fmt='%.2f', padding=3)\n",
    "\n",
    "plt.tight_layout()\n",
    "plt.show()"
   ]
  },
  {
   "cell_type": "code",
   "execution_count": 33,
   "id": "5b4febad",
   "metadata": {},
   "outputs": [
    {
     "data": {
      "text/plain": [
       "np.float64(5.375734177215189)"
      ]
     },
     "execution_count": 33,
     "metadata": {},
     "output_type": "execute_result"
    }
   ],
   "source": [
    "df['Happiness Score'].mean()"
   ]
  }
 ],
 "metadata": {
  "kernelspec": {
   "display_name": "universal",
   "language": "python",
   "name": "python3"
  },
  "language_info": {
   "codemirror_mode": {
    "name": "ipython",
    "version": 3
   },
   "file_extension": ".py",
   "mimetype": "text/x-python",
   "name": "python",
   "nbconvert_exporter": "python",
   "pygments_lexer": "ipython3",
   "version": "3.9.23"
  }
 },
 "nbformat": 4,
 "nbformat_minor": 5
}
